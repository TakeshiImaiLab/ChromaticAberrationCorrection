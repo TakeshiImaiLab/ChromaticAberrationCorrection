{
 "cells": [
  {
   "cell_type": "code",
   "execution_count": 1,
   "metadata": {},
   "outputs": [],
   "source": [
    "import numpy as np\n",
    "import matplotlib.pyplot as plt\n",
    "from skimage.io import*\n",
    "from scipy import ndimage as ndi\n",
    "import napari\n",
    "from skimage.morphology import*\n",
    "from skimage.segmentation import*\n",
    "from skimage.measure import*\n",
    "import seaborn as sns\n",
    "from sklearn.linear_model import LinearRegression\n",
    "from sklearn.metrics import*\n",
    "from matplotlib.figure import*\n",
    "import pandas as pd\n",
    "import os\n",
    "from skimage.filters import median\n",
    "from skimage.color import label2rgb\n",
    "import matplotlib.patches as mpatches\n",
    "from sklearn.metrics import r2_score\n",
    "import pandas as pd\n",
    "import warnings; warnings.simplefilter('ignore')\n",
    "sns.set_style('ticks')"
   ]
  },
  {
   "cell_type": "code",
   "execution_count": 2,
   "metadata": {},
   "outputs": [
    {
     "name": "stdout",
     "output_type": "stream",
     "text": [
      "(101, 480, 480, 4)\n"
     ]
    }
   ],
   "source": [
    "img = imread('D://Chromatic_abberation_corrections//x63_0-25um_BeadCroppedDemo.tif')\n",
    "print(img.shape)"
   ]
  },
  {
   "cell_type": "code",
   "execution_count": 3,
   "metadata": {},
   "outputs": [],
   "source": [
    "#load the csv's\n",
    "ch0 = pd.read_excel('ch0.xls')\n",
    "ch1 = pd.read_excel('ch1.xls')\n",
    "ch2 = pd.read_excel('ch2.xls')\n",
    "ch3 = pd.read_excel('ch3.xls')"
   ]
  },
  {
   "cell_type": "code",
   "execution_count": 4,
   "metadata": {},
   "outputs": [
    {
     "data": {
      "text/html": [
       "<div>\n",
       "<style scoped>\n",
       "    .dataframe tbody tr th:only-of-type {\n",
       "        vertical-align: middle;\n",
       "    }\n",
       "\n",
       "    .dataframe tbody tr th {\n",
       "        vertical-align: top;\n",
       "    }\n",
       "\n",
       "    .dataframe thead th {\n",
       "        text-align: right;\n",
       "    }\n",
       "</style>\n",
       "<table border=\"1\" class=\"dataframe\">\n",
       "  <thead>\n",
       "    <tr style=\"text-align: right;\">\n",
       "      <th></th>\n",
       "      <th>Name</th>\n",
       "      <th>Position X</th>\n",
       "      <th>Position Y</th>\n",
       "      <th>Position Z</th>\n",
       "      <th>Position T</th>\n",
       "      <th>Size Y</th>\n",
       "      <th>Size Z</th>\n",
       "      <th>Center X</th>\n",
       "      <th>Center Y</th>\n",
       "      <th>Center Z</th>\n",
       "      <th>Center T</th>\n",
       "    </tr>\n",
       "  </thead>\n",
       "  <tbody>\n",
       "    <tr>\n",
       "      <th>0</th>\n",
       "      <td>spot #0</td>\n",
       "      <td>180.0</td>\n",
       "      <td>56.0</td>\n",
       "      <td>100.0</td>\n",
       "      <td>0.0</td>\n",
       "      <td>2.0</td>\n",
       "      <td>1.0</td>\n",
       "      <td>180.500000</td>\n",
       "      <td>56.500000</td>\n",
       "      <td>100.000000</td>\n",
       "      <td>0.0</td>\n",
       "    </tr>\n",
       "    <tr>\n",
       "      <th>1</th>\n",
       "      <td>spot #1</td>\n",
       "      <td>269.0</td>\n",
       "      <td>286.0</td>\n",
       "      <td>96.0</td>\n",
       "      <td>0.0</td>\n",
       "      <td>5.0</td>\n",
       "      <td>4.0</td>\n",
       "      <td>271.032787</td>\n",
       "      <td>288.000000</td>\n",
       "      <td>97.524590</td>\n",
       "      <td>0.0</td>\n",
       "    </tr>\n",
       "    <tr>\n",
       "      <th>2</th>\n",
       "      <td>spot #2</td>\n",
       "      <td>405.0</td>\n",
       "      <td>269.0</td>\n",
       "      <td>91.0</td>\n",
       "      <td>0.0</td>\n",
       "      <td>5.0</td>\n",
       "      <td>5.0</td>\n",
       "      <td>406.760000</td>\n",
       "      <td>270.733333</td>\n",
       "      <td>92.866667</td>\n",
       "      <td>0.0</td>\n",
       "    </tr>\n",
       "    <tr>\n",
       "      <th>3</th>\n",
       "      <td>spot #3</td>\n",
       "      <td>202.0</td>\n",
       "      <td>24.0</td>\n",
       "      <td>84.0</td>\n",
       "      <td>0.0</td>\n",
       "      <td>5.0</td>\n",
       "      <td>5.0</td>\n",
       "      <td>203.761194</td>\n",
       "      <td>25.955224</td>\n",
       "      <td>86.194030</td>\n",
       "      <td>0.0</td>\n",
       "    </tr>\n",
       "    <tr>\n",
       "      <th>4</th>\n",
       "      <td>spot #4</td>\n",
       "      <td>223.0</td>\n",
       "      <td>360.0</td>\n",
       "      <td>72.0</td>\n",
       "      <td>0.0</td>\n",
       "      <td>5.0</td>\n",
       "      <td>5.0</td>\n",
       "      <td>225.241379</td>\n",
       "      <td>361.793103</td>\n",
       "      <td>73.862069</td>\n",
       "      <td>0.0</td>\n",
       "    </tr>\n",
       "  </tbody>\n",
       "</table>\n",
       "</div>"
      ],
      "text/plain": [
       "      Name  Position X  Position Y  Position Z  Position T  Size Y  Size Z  \\\n",
       "0  spot #0       180.0        56.0       100.0         0.0     2.0     1.0   \n",
       "1  spot #1       269.0       286.0        96.0         0.0     5.0     4.0   \n",
       "2  spot #2       405.0       269.0        91.0         0.0     5.0     5.0   \n",
       "3  spot #3       202.0        24.0        84.0         0.0     5.0     5.0   \n",
       "4  spot #4       223.0       360.0        72.0         0.0     5.0     5.0   \n",
       "\n",
       "     Center X    Center Y    Center Z  Center T  \n",
       "0  180.500000   56.500000  100.000000       0.0  \n",
       "1  271.032787  288.000000   97.524590       0.0  \n",
       "2  406.760000  270.733333   92.866667       0.0  \n",
       "3  203.761194   25.955224   86.194030       0.0  \n",
       "4  225.241379  361.793103   73.862069       0.0  "
      ]
     },
     "execution_count": 4,
     "metadata": {},
     "output_type": "execute_result"
    }
   ],
   "source": [
    "ch0.head()"
   ]
  },
  {
   "cell_type": "code",
   "execution_count": 5,
   "metadata": {},
   "outputs": [],
   "source": [
    "def get_centroids(channel_data, channel_name):  #get the center x, y and z separately for each channel\n",
    "    centroids = []\n",
    "    for i in range(len(channel_data)):\n",
    "        centroids.append(channel_data['Center'+' '+str(channel_name)][i])\n",
    "    centroids = np.array(centroids)\n",
    "    return centroids"
   ]
  },
  {
   "cell_type": "code",
   "execution_count": 6,
   "metadata": {},
   "outputs": [],
   "source": [
    "centroids_0_z = get_centroids(ch0, 'Z')\n",
    "centroids_0_y = get_centroids(ch0, 'Y')\n",
    "centroids_0_x = get_centroids(ch0, 'X')\n",
    "\n",
    "centroids_1_z = get_centroids(ch1, 'Z')\n",
    "centroids_1_y = get_centroids(ch1, 'Y')\n",
    "centroids_1_x = get_centroids(ch1, 'X')\n",
    "\n",
    "centroids_2_z = get_centroids(ch2, 'Z')\n",
    "centroids_2_y = get_centroids(ch2, 'Y')\n",
    "centroids_2_x = get_centroids(ch2, 'X')\n",
    "\n",
    "centroids_3_z = get_centroids(ch3, 'Z')\n",
    "centroids_3_y = get_centroids(ch3, 'Y')\n",
    "centroids_3_x = get_centroids(ch3, 'X')"
   ]
  },
  {
   "cell_type": "code",
   "execution_count": 7,
   "metadata": {},
   "outputs": [],
   "source": [
    "diff_z01 = centroids_0_z - centroids_1_z\n",
    "diff_z02 = centroids_0_z - centroids_2_z\n",
    "diff_z03 = centroids_0_z - centroids_3_z\n",
    "\n",
    "diff_z12 = centroids_1_z - centroids_2_z\n",
    "diff_z13 = centroids_1_z - centroids_3_z\n",
    "diff_z10 = centroids_1_z - centroids_0_z\n",
    "\n",
    "diff_z23 = centroids_2_z - centroids_3_z\n",
    "diff_z20 = centroids_2_z - centroids_0_z\n",
    "diff_z21 = centroids_2_z - centroids_1_z\n",
    "\n",
    "diff_z30 = centroids_3_z - centroids_0_z\n",
    "diff_z31 = centroids_3_z - centroids_1_z\n",
    "diff_z32 = centroids_3_z - centroids_2_z"
   ]
  },
  {
   "cell_type": "code",
   "execution_count": 8,
   "metadata": {},
   "outputs": [],
   "source": [
    "#reshape the data\n",
    "def reshape_z(z_centers):\n",
    "    zshaped = z_centers.reshape(-1,1)\n",
    "    return zshaped"
   ]
  },
  {
   "cell_type": "code",
   "execution_count": 9,
   "metadata": {},
   "outputs": [],
   "source": [
    "z0 = reshape_z(centroids_0_z)\n",
    "z1 = reshape_z(centroids_1_z)\n",
    "z2 = reshape_z(centroids_2_z)\n",
    "z3 = reshape_z(centroids_3_z)"
   ]
  },
  {
   "cell_type": "code",
   "execution_count": 10,
   "metadata": {},
   "outputs": [],
   "source": [
    "reg01 = LinearRegression().fit(z0, diff_z01)\n",
    "reg02 = LinearRegression().fit(z0, diff_z02)\n",
    "reg03 = LinearRegression().fit(z0, diff_z03)\n",
    "\n",
    "reg12 = LinearRegression().fit(z1, diff_z12)\n",
    "reg13 = LinearRegression().fit(z1, diff_z13)\n",
    "reg10 = LinearRegression().fit(z1, diff_z10)\n",
    "\n",
    "reg23 = LinearRegression().fit(z2, diff_z23)\n",
    "reg20 = LinearRegression().fit(z2, diff_z20)\n",
    "reg21 = LinearRegression().fit(z2, diff_z21)\n",
    "\n",
    "reg30 = LinearRegression().fit(z3, diff_z30)\n",
    "reg31 = LinearRegression().fit(z3, diff_z31)\n",
    "reg32 = LinearRegression().fit(z3, diff_z32)"
   ]
  },
  {
   "cell_type": "code",
   "execution_count": 11,
   "metadata": {},
   "outputs": [],
   "source": [
    "m0 = reg01.coef_.tolist()+reg02.coef_.tolist()+reg03.coef_.tolist() #for channel 0 as base then to other channels\n",
    "m1 = reg12.coef_.tolist()+reg13.coef_.tolist()+reg10.coef_.tolist()\n",
    "m2 = reg23.coef_.tolist()+reg20.coef_.tolist()+reg21.coef_.tolist()\n",
    "m3 = reg30.coef_.tolist()+reg31.coef_.tolist()+reg32.coef_.tolist()\n",
    "\n",
    "c0 = [reg01.intercept_, reg02.intercept_, reg03.intercept_] #for channel 0 as base then to other channels\n",
    "c1 = [reg12.intercept_, reg13.intercept_, reg10.intercept_]\n",
    "c2 = [reg23.intercept_, reg20.intercept_, reg21.intercept_]\n",
    "c3 = [reg30.intercept_, reg31.intercept_, reg32.intercept_]"
   ]
  },
  {
   "cell_type": "code",
   "execution_count": 12,
   "metadata": {},
   "outputs": [
    {
     "data": {
      "image/png": "[encoded data removed]",
      "text/plain": [
       "<Figure size 1440x360 with 2 Axes>"
      ]
     },
     "metadata": {
      "needs_background": "light"
     },
     "output_type": "display_data"
    }
   ],
   "source": [
    "fig = plt.figure(figsize=(20,5))\n",
    "ax1 = fig.add_subplot(121)\n",
    "\n",
    "\n",
    "ax1 = plt.scatter(centroids_0_z, diff_z01, color='red')\n",
    "ax1 = plt.plot(centroids_0_z, reg01.predict(z0), color='red',label='Ch 0-1')\n",
    "ax1 = plt.scatter(centroids_0_z, diff_z02, color='blue')\n",
    "ax1 = plt.plot(centroids_0_z, reg02.predict(z0), color='blue',label='Ch 0-2')\n",
    "ax1 = plt.scatter(centroids_0_z, diff_z03, color='green')\n",
    "ax1 = plt.plot(centroids_0_z, reg03.predict(z0), color='green',label='Ch 0-3')\n",
    "ax1 = plt.xlabel('Z-Centroid')\n",
    "ax1 = plt.ylabel('Difference in Z-Centroid')\n",
    "ax1 = plt.title('Regression for ch0')\n",
    "ax1 = plt.legend()\n",
    "ax2 = fig.add_subplot(122)\n",
    "ax2 = sns.residplot(centroids_0_z, diff_z01, data=reg01.predict(z0), ax=ax2, color='red',label='Ch 0-1')\n",
    "ax2 = sns.residplot(centroids_0_z, diff_z02, data=reg02.predict(z0), ax=ax2, color='blue',label='Ch 0-2')\n",
    "ax2 = sns.residplot(centroids_0_z, diff_z03, data=reg03.predict(z0), ax=ax2, color='green',label='Ch 0-3')\n",
    "ax2 = plt.xlabel('Z-Centroid')\n",
    "ax2 = plt.ylabel('Difference in Z-Centroid')\n",
    "ax2 = plt.title('Residual Plot for ch0')\n",
    "ax2 = plt.legend()"
   ]
  },
  {
   "cell_type": "code",
   "execution_count": 13,
   "metadata": {},
   "outputs": [],
   "source": [
    "reg_vals = pd.DataFrame({'m0':m0,'m1':m1,'m2':m2,'m3':m3,'c0':c0,'c1':c1,'c2':c2,'c3':c3})"
   ]
  },
  {
   "cell_type": "code",
   "execution_count": 14,
   "metadata": {},
   "outputs": [
    {
     "data": {
      "text/html": [
       "<div>\n",
       "<style scoped>\n",
       "    .dataframe tbody tr th:only-of-type {\n",
       "        vertical-align: middle;\n",
       "    }\n",
       "\n",
       "    .dataframe tbody tr th {\n",
       "        vertical-align: top;\n",
       "    }\n",
       "\n",
       "    .dataframe thead th {\n",
       "        text-align: right;\n",
       "    }\n",
       "</style>\n",
       "<table border=\"1\" class=\"dataframe\">\n",
       "  <thead>\n",
       "    <tr style=\"text-align: right;\">\n",
       "      <th></th>\n",
       "      <th>m0</th>\n",
       "      <th>m1</th>\n",
       "      <th>m2</th>\n",
       "      <th>m3</th>\n",
       "      <th>c0</th>\n",
       "      <th>c1</th>\n",
       "      <th>c2</th>\n",
       "      <th>c3</th>\n",
       "    </tr>\n",
       "  </thead>\n",
       "  <tbody>\n",
       "    <tr>\n",
       "      <th>0</th>\n",
       "      <td>-0.000834</td>\n",
       "      <td>-0.002282</td>\n",
       "      <td>-0.006839</td>\n",
       "      <td>0.010080</td>\n",
       "      <td>0.145089</td>\n",
       "      <td>0.468137</td>\n",
       "      <td>1.279034</td>\n",
       "      <td>-1.890243</td>\n",
       "    </tr>\n",
       "    <tr>\n",
       "      <th>1</th>\n",
       "      <td>-0.003128</td>\n",
       "      <td>-0.009124</td>\n",
       "      <td>0.003252</td>\n",
       "      <td>0.009137</td>\n",
       "      <td>0.614146</td>\n",
       "      <td>1.749559</td>\n",
       "      <td>-0.620498</td>\n",
       "      <td>-1.739564</td>\n",
       "    </tr>\n",
       "    <tr>\n",
       "      <th>2</th>\n",
       "      <td>-0.009980</td>\n",
       "      <td>0.000966</td>\n",
       "      <td>0.002297</td>\n",
       "      <td>0.006843</td>\n",
       "      <td>1.896890</td>\n",
       "      <td>-0.153241</td>\n",
       "      <td>-0.468291</td>\n",
       "      <td>-1.273415</td>\n",
       "    </tr>\n",
       "  </tbody>\n",
       "</table>\n",
       "</div>"
      ],
      "text/plain": [
       "         m0        m1        m2        m3        c0        c1        c2  \\\n",
       "0 -0.000834 -0.002282 -0.006839  0.010080  0.145089  0.468137  1.279034   \n",
       "1 -0.003128 -0.009124  0.003252  0.009137  0.614146  1.749559 -0.620498   \n",
       "2 -0.009980  0.000966  0.002297  0.006843  1.896890 -0.153241 -0.468291   \n",
       "\n",
       "         c3  \n",
       "0 -1.890243  \n",
       "1 -1.739564  \n",
       "2 -1.273415  "
      ]
     },
     "execution_count": 14,
     "metadata": {},
     "output_type": "execute_result"
    }
   ],
   "source": [
    "reg_vals.head()"
   ]
  },
  {
   "cell_type": "code",
   "execution_count": 15,
   "metadata": {},
   "outputs": [],
   "source": [
    "reg_vals = reg_vals.append(pd.Series(0, index=reg_vals.columns), ignore_index=True)         ###Adding the same channel regression which is 0"
   ]
  },
  {
   "cell_type": "code",
   "execution_count": 16,
   "metadata": {},
   "outputs": [
    {
     "data": {
      "text/html": [
       "<div>\n",
       "<style scoped>\n",
       "    .dataframe tbody tr th:only-of-type {\n",
       "        vertical-align: middle;\n",
       "    }\n",
       "\n",
       "    .dataframe tbody tr th {\n",
       "        vertical-align: top;\n",
       "    }\n",
       "\n",
       "    .dataframe thead th {\n",
       "        text-align: right;\n",
       "    }\n",
       "</style>\n",
       "<table border=\"1\" class=\"dataframe\">\n",
       "  <thead>\n",
       "    <tr style=\"text-align: right;\">\n",
       "      <th></th>\n",
       "      <th>m0</th>\n",
       "      <th>m1</th>\n",
       "      <th>m2</th>\n",
       "      <th>m3</th>\n",
       "      <th>c0</th>\n",
       "      <th>c1</th>\n",
       "      <th>c2</th>\n",
       "      <th>c3</th>\n",
       "    </tr>\n",
       "  </thead>\n",
       "  <tbody>\n",
       "    <tr>\n",
       "      <th>0</th>\n",
       "      <td>-0.000834</td>\n",
       "      <td>-0.002282</td>\n",
       "      <td>-0.006839</td>\n",
       "      <td>0.010080</td>\n",
       "      <td>0.145089</td>\n",
       "      <td>0.468137</td>\n",
       "      <td>1.279034</td>\n",
       "      <td>-1.890243</td>\n",
       "    </tr>\n",
       "    <tr>\n",
       "      <th>1</th>\n",
       "      <td>-0.003128</td>\n",
       "      <td>-0.009124</td>\n",
       "      <td>0.003252</td>\n",
       "      <td>0.009137</td>\n",
       "      <td>0.614146</td>\n",
       "      <td>1.749559</td>\n",
       "      <td>-0.620498</td>\n",
       "      <td>-1.739564</td>\n",
       "    </tr>\n",
       "    <tr>\n",
       "      <th>2</th>\n",
       "      <td>-0.009980</td>\n",
       "      <td>0.000966</td>\n",
       "      <td>0.002297</td>\n",
       "      <td>0.006843</td>\n",
       "      <td>1.896890</td>\n",
       "      <td>-0.153241</td>\n",
       "      <td>-0.468291</td>\n",
       "      <td>-1.273415</td>\n",
       "    </tr>\n",
       "    <tr>\n",
       "      <th>3</th>\n",
       "      <td>0.000000</td>\n",
       "      <td>0.000000</td>\n",
       "      <td>0.000000</td>\n",
       "      <td>0.000000</td>\n",
       "      <td>0.000000</td>\n",
       "      <td>0.000000</td>\n",
       "      <td>0.000000</td>\n",
       "      <td>0.000000</td>\n",
       "    </tr>\n",
       "  </tbody>\n",
       "</table>\n",
       "</div>"
      ],
      "text/plain": [
       "         m0        m1        m2        m3        c0        c1        c2  \\\n",
       "0 -0.000834 -0.002282 -0.006839  0.010080  0.145089  0.468137  1.279034   \n",
       "1 -0.003128 -0.009124  0.003252  0.009137  0.614146  1.749559 -0.620498   \n",
       "2 -0.009980  0.000966  0.002297  0.006843  1.896890 -0.153241 -0.468291   \n",
       "3  0.000000  0.000000  0.000000  0.000000  0.000000  0.000000  0.000000   \n",
       "\n",
       "         c3  \n",
       "0 -1.890243  \n",
       "1 -1.739564  \n",
       "2 -1.273415  \n",
       "3  0.000000  "
      ]
     },
     "execution_count": 16,
     "metadata": {},
     "output_type": "execute_result"
    }
   ],
   "source": [
    "reg_vals.head()"
   ]
  },
  {
   "cell_type": "code",
   "execution_count": 20,
   "metadata": {},
   "outputs": [],
   "source": [
    "size = img.shape\n",
    "#z = 0.24 um"
   ]
  },
  {
   "cell_type": "code",
   "execution_count": 25,
   "metadata": {},
   "outputs": [],
   "source": [
    "base_m0 = reg_vals['m0'].tolist()               ###Earlier it will taking the regression values along the rows, rather the columns \n",
    "base_c0 = reg_vals['c0'].tolist()"
   ]
  },
  {
   "cell_type": "code",
   "execution_count": 26,
   "metadata": {},
   "outputs": [],
   "source": [
    "#Step-1:Calculate the z range\n",
    "zstart = 0\n",
    "zrange_um = np.linspace(zstart,zstart+(img.shape[0]-1)*0.24,img.shape[0])"
   ]
  },
  {
   "cell_type": "code",
   "execution_count": 31,
   "metadata": {},
   "outputs": [],
   "source": [
    "#Step-2:Calculate the chromatic abberation equations for each channes\n",
    "zshifts = []\n",
    "for i in range(img.shape[3]):                                   ##iterating all the 4 channels of the image\n",
    "    zshifts.append((zrange_um*base_m0[i])+base_c0[i]+zrange_um)\n",
    "    \n",
    "zshifts = np.array(zshifts)"
   ]
  },
  {
   "cell_type": "code",
   "execution_count": 32,
   "metadata": {},
   "outputs": [
    {
     "name": "stdout",
     "output_type": "stream",
     "text": [
      "0.0 25.65736737745759\n"
     ]
    }
   ],
   "source": [
    "minzrange = np.min(zshifts)\n",
    "maxzrange = np.max(zshifts)\n",
    "rangesize = maxzrange-minzrange\n",
    "print(minzrange,maxzrange)"
   ]
  },
  {
   "cell_type": "code",
   "execution_count": 33,
   "metadata": {},
   "outputs": [],
   "source": [
    "newrange = np.arange(zstart,zstart+rangesize,0.24)"
   ]
  },
  {
   "cell_type": "code",
   "execution_count": 34,
   "metadata": {},
   "outputs": [],
   "source": [
    "zshifts2 = []\n",
    "for i in range(img.shape[3]):\n",
    "    zshifts2.append((newrange*base_m0[i])+base_c0[i])\n",
    "zshifts2 = np.array(zshifts2)"
   ]
  },
  {
   "cell_type": "code",
   "execution_count": 35,
   "metadata": {},
   "outputs": [
    {
     "data": {
      "text/plain": [
       "array([[0.145089  , 0.14488889, 0.14468878, 0.14448867, 0.14428855,\n",
       "        0.14408844, 0.14388833, 0.14368822, 0.14348811, 0.143288  ,\n",
       "        0.14308789, 0.14288778, 0.14268767, 0.14248756, 0.14228745,\n",
       "        0.14208733, 0.14188722, 0.14168711, 0.141487  , 0.14128689,\n",
       "        0.14108678, 0.14088667, 0.14068656, 0.14048645, 0.14028634,\n",
       "        0.14008623, 0.13988612, 0.139686  , 0.13948589, 0.13928578,\n",
       "        0.13908567, 0.13888556, 0.13868545, 0.13848534, 0.13828523,\n",
       "        0.13808512, 0.13788501, 0.1376849 , 0.13748478, 0.13728467,\n",
       "        0.13708456, 0.13688445, 0.13668434, 0.13648423, 0.13628412,\n",
       "        0.13608401, 0.1358839 , 0.13568379, 0.13548368, 0.13528357,\n",
       "        0.13508345, 0.13488334, 0.13468323, 0.13448312, 0.13428301,\n",
       "        0.1340829 , 0.13388279, 0.13368268, 0.13348257, 0.13328246,\n",
       "        0.13308235, 0.13288223, 0.13268212, 0.13248201, 0.1322819 ,\n",
       "        0.13208179, 0.13188168, 0.13168157, 0.13148146, 0.13128135,\n",
       "        0.13108124, 0.13088113, 0.13068102, 0.1304809 , 0.13028079,\n",
       "        0.13008068, 0.12988057, 0.12968046, 0.12948035, 0.12928024,\n",
       "        0.12908013, 0.12888002, 0.12867991, 0.1284798 , 0.12827968,\n",
       "        0.12807957, 0.12787946, 0.12767935, 0.12747924, 0.12727913,\n",
       "        0.12707902, 0.12687891, 0.1266788 , 0.12647869, 0.12627858,\n",
       "        0.12607846, 0.12587835, 0.12567824, 0.12547813, 0.12527802,\n",
       "        0.12507791, 0.1248778 , 0.12467769, 0.12447758, 0.12427747,\n",
       "        0.12407736, 0.12387725],\n",
       "       [0.6141465 , 0.61339587, 0.61264524, 0.61189462, 0.61114399,\n",
       "        0.61039336, 0.60964274, 0.60889211, 0.60814148, 0.60739086,\n",
       "        0.60664023, 0.6058896 , 0.60513898, 0.60438835, 0.60363773,\n",
       "        0.6028871 , 0.60213647, 0.60138585, 0.60063522, 0.59988459,\n",
       "        0.59913397, 0.59838334, 0.59763271, 0.59688209, 0.59613146,\n",
       "        0.59538083, 0.59463021, 0.59387958, 0.59312895, 0.59237833,\n",
       "        0.5916277 , 0.59087707, 0.59012645, 0.58937582, 0.58862519,\n",
       "        0.58787457, 0.58712394, 0.58637331, 0.58562269, 0.58487206,\n",
       "        0.58412143, 0.58337081, 0.58262018, 0.58186955, 0.58111893,\n",
       "        0.5803683 , 0.57961767, 0.57886705, 0.57811642, 0.57736579,\n",
       "        0.57661517, 0.57586454, 0.57511391, 0.57436329, 0.57361266,\n",
       "        0.57286203, 0.57211141, 0.57136078, 0.57061015, 0.56985953,\n",
       "        0.5691089 , 0.56835827, 0.56760765, 0.56685702, 0.56610639,\n",
       "        0.56535577, 0.56460514, 0.56385451, 0.56310389, 0.56235326,\n",
       "        0.56160263, 0.56085201, 0.56010138, 0.55935075, 0.55860013,\n",
       "        0.5578495 , 0.55709887, 0.55634825, 0.55559762, 0.55484699,\n",
       "        0.55409637, 0.55334574, 0.55259511, 0.55184449, 0.55109386,\n",
       "        0.55034323, 0.54959261, 0.54884198, 0.54809135, 0.54734073,\n",
       "        0.5465901 , 0.54583947, 0.54508885, 0.54433822, 0.5435876 ,\n",
       "        0.54283697, 0.54208634, 0.54133572, 0.54058509, 0.53983446,\n",
       "        0.53908384, 0.53833321, 0.53758258, 0.53683196, 0.53608133,\n",
       "        0.5353307 , 0.53458008],\n",
       "       [1.89688983, 1.89449461, 1.89209939, 1.88970416, 1.88730894,\n",
       "        1.88491371, 1.88251849, 1.88012326, 1.87772804, 1.87533281,\n",
       "        1.87293759, 1.87054236, 1.86814714, 1.86575192, 1.86335669,\n",
       "        1.86096147, 1.85856624, 1.85617102, 1.85377579, 1.85138057,\n",
       "        1.84898534, 1.84659012, 1.84419489, 1.84179967, 1.83940444,\n",
       "        1.83700922, 1.834614  , 1.83221877, 1.82982355, 1.82742832,\n",
       "        1.8250331 , 1.82263787, 1.82024265, 1.81784742, 1.8154522 ,\n",
       "        1.81305697, 1.81066175, 1.80826653, 1.8058713 , 1.80347608,\n",
       "        1.80108085, 1.79868563, 1.7962904 , 1.79389518, 1.79149995,\n",
       "        1.78910473, 1.7867095 , 1.78431428, 1.78191906, 1.77952383,\n",
       "        1.77712861, 1.77473338, 1.77233816, 1.76994293, 1.76754771,\n",
       "        1.76515248, 1.76275726, 1.76036203, 1.75796681, 1.75557158,\n",
       "        1.75317636, 1.75078114, 1.74838591, 1.74599069, 1.74359546,\n",
       "        1.74120024, 1.73880501, 1.73640979, 1.73401456, 1.73161934,\n",
       "        1.72922411, 1.72682889, 1.72443367, 1.72203844, 1.71964322,\n",
       "        1.71724799, 1.71485277, 1.71245754, 1.71006232, 1.70766709,\n",
       "        1.70527187, 1.70287664, 1.70048142, 1.6980862 , 1.69569097,\n",
       "        1.69329575, 1.69090052, 1.6885053 , 1.68611007, 1.68371485,\n",
       "        1.68131962, 1.6789244 , 1.67652917, 1.67413395, 1.67173872,\n",
       "        1.6693435 , 1.66694828, 1.66455305, 1.66215783, 1.6597626 ,\n",
       "        1.65736738, 1.65497215, 1.65257693, 1.6501817 , 1.64778648,\n",
       "        1.64539125, 1.64299603],\n",
       "       [0.        , 0.        , 0.        , 0.        , 0.        ,\n",
       "        0.        , 0.        , 0.        , 0.        , 0.        ,\n",
       "        0.        , 0.        , 0.        , 0.        , 0.        ,\n",
       "        0.        , 0.        , 0.        , 0.        , 0.        ,\n",
       "        0.        , 0.        , 0.        , 0.        , 0.        ,\n",
       "        0.        , 0.        , 0.        , 0.        , 0.        ,\n",
       "        0.        , 0.        , 0.        , 0.        , 0.        ,\n",
       "        0.        , 0.        , 0.        , 0.        , 0.        ,\n",
       "        0.        , 0.        , 0.        , 0.        , 0.        ,\n",
       "        0.        , 0.        , 0.        , 0.        , 0.        ,\n",
       "        0.        , 0.        , 0.        , 0.        , 0.        ,\n",
       "        0.        , 0.        , 0.        , 0.        , 0.        ,\n",
       "        0.        , 0.        , 0.        , 0.        , 0.        ,\n",
       "        0.        , 0.        , 0.        , 0.        , 0.        ,\n",
       "        0.        , 0.        , 0.        , 0.        , 0.        ,\n",
       "        0.        , 0.        , 0.        , 0.        , 0.        ,\n",
       "        0.        , 0.        , 0.        , 0.        , 0.        ,\n",
       "        0.        , 0.        , 0.        , 0.        , 0.        ,\n",
       "        0.        , 0.        , 0.        , 0.        , 0.        ,\n",
       "        0.        , 0.        , 0.        , 0.        , 0.        ,\n",
       "        0.        , 0.        , 0.        , 0.        , 0.        ,\n",
       "        0.        , 0.        ]])"
      ]
     },
     "execution_count": 35,
     "metadata": {},
     "output_type": "execute_result"
    }
   ],
   "source": [
    "zshifts2"
   ]
  },
  {
   "cell_type": "code",
   "execution_count": 46,
   "metadata": {},
   "outputs": [
    {
     "data": {
      "text/plain": [
       "(107,)"
      ]
     },
     "execution_count": 46,
     "metadata": {},
     "output_type": "execute_result"
    }
   ],
   "source": [
    "newrange.shape"
   ]
  },
  {
   "cell_type": "code",
   "execution_count": 47,
   "metadata": {},
   "outputs": [],
   "source": [
    "nplanes = len(newrange)\n",
    "zshifts_vx = np.round(zshifts2/0.24)"
   ]
  },
  {
   "cell_type": "code",
   "execution_count": 48,
   "metadata": {},
   "outputs": [
    {
     "data": {
      "text/plain": [
       "8.0"
      ]
     },
     "execution_count": 48,
     "metadata": {},
     "output_type": "execute_result"
    }
   ],
   "source": [
    "np.max(zshifts_vx[:,0])"
   ]
  },
  {
   "cell_type": "code",
   "execution_count": 49,
   "metadata": {},
   "outputs": [
    {
     "data": {
      "text/plain": [
       "8.0"
      ]
     },
     "execution_count": 49,
     "metadata": {},
     "output_type": "execute_result"
    }
   ],
   "source": [
    "np.max(zshifts_vx) "
   ]
  },
  {
   "cell_type": "code",
   "execution_count": 50,
   "metadata": {},
   "outputs": [],
   "source": [
    "czshifts = zshifts_vx-np.max(zshifts_vx)"
   ]
  },
  {
   "cell_type": "code",
   "execution_count": 51,
   "metadata": {},
   "outputs": [],
   "source": [
    "czshifts = czshifts.astype(int)"
   ]
  },
  {
   "cell_type": "code",
   "execution_count": 52,
   "metadata": {},
   "outputs": [
    {
     "data": {
      "text/plain": [
       "array([[-7, -7, -7, -7, -7, -7, -7, -7, -7, -7, -7, -7, -7, -7, -7, -7,\n",
       "        -7, -7, -7, -7, -7, -7, -7, -7, -7, -7, -7, -7, -7, -7, -7, -7,\n",
       "        -7, -7, -7, -7, -7, -7, -7, -7, -7, -7, -7, -7, -7, -7, -7, -7,\n",
       "        -7, -7, -7, -7, -7, -7, -7, -7, -7, -7, -7, -7, -7, -7, -7, -7,\n",
       "        -7, -7, -7, -7, -7, -7, -7, -7, -7, -7, -7, -7, -7, -7, -7, -7,\n",
       "        -7, -7, -7, -7, -7, -7, -7, -7, -7, -7, -7, -7, -7, -7, -7, -7,\n",
       "        -7, -7, -7, -7, -7, -7, -7, -7, -7, -7, -7],\n",
       "       [-5, -5, -5, -5, -5, -5, -5, -5, -5, -5, -5, -5, -5, -5, -5, -5,\n",
       "        -5, -5, -5, -6, -6, -6, -6, -6, -6, -6, -6, -6, -6, -6, -6, -6,\n",
       "        -6, -6, -6, -6, -6, -6, -6, -6, -6, -6, -6, -6, -6, -6, -6, -6,\n",
       "        -6, -6, -6, -6, -6, -6, -6, -6, -6, -6, -6, -6, -6, -6, -6, -6,\n",
       "        -6, -6, -6, -6, -6, -6, -6, -6, -6, -6, -6, -6, -6, -6, -6, -6,\n",
       "        -6, -6, -6, -6, -6, -6, -6, -6, -6, -6, -6, -6, -6, -6, -6, -6,\n",
       "        -6, -6, -6, -6, -6, -6, -6, -6, -6, -6, -6],\n",
       "       [ 0,  0,  0,  0,  0,  0,  0,  0,  0,  0,  0,  0,  0,  0,  0,  0,\n",
       "         0,  0,  0,  0,  0,  0,  0,  0,  0,  0,  0,  0,  0,  0,  0,  0,\n",
       "         0,  0,  0,  0,  0,  0,  0,  0,  0, -1, -1, -1, -1, -1, -1, -1,\n",
       "        -1, -1, -1, -1, -1, -1, -1, -1, -1, -1, -1, -1, -1, -1, -1, -1,\n",
       "        -1, -1, -1, -1, -1, -1, -1, -1, -1, -1, -1, -1, -1, -1, -1, -1,\n",
       "        -1, -1, -1, -1, -1, -1, -1, -1, -1, -1, -1, -1, -1, -1, -1, -1,\n",
       "        -1, -1, -1, -1, -1, -1, -1, -1, -1, -1, -1],\n",
       "       [-8, -8, -8, -8, -8, -8, -8, -8, -8, -8, -8, -8, -8, -8, -8, -8,\n",
       "        -8, -8, -8, -8, -8, -8, -8, -8, -8, -8, -8, -8, -8, -8, -8, -8,\n",
       "        -8, -8, -8, -8, -8, -8, -8, -8, -8, -8, -8, -8, -8, -8, -8, -8,\n",
       "        -8, -8, -8, -8, -8, -8, -8, -8, -8, -8, -8, -8, -8, -8, -8, -8,\n",
       "        -8, -8, -8, -8, -8, -8, -8, -8, -8, -8, -8, -8, -8, -8, -8, -8,\n",
       "        -8, -8, -8, -8, -8, -8, -8, -8, -8, -8, -8, -8, -8, -8, -8, -8,\n",
       "        -8, -8, -8, -8, -8, -8, -8, -8, -8, -8, -8]])"
      ]
     },
     "execution_count": 52,
     "metadata": {},
     "output_type": "execute_result"
    }
   ],
   "source": [
    "czshifts"
   ]
  },
  {
   "cell_type": "code",
   "execution_count": null,
   "metadata": {},
   "outputs": [],
   "source": [
    "#############################################################################################################################################################"
   ]
  },
  {
   "cell_type": "code",
   "execution_count": 54,
   "metadata": {},
   "outputs": [],
   "source": [
    "img_corr = []\n",
    "for z in range(nplanes):\n",
    "    for j in range(img.shape[3]):\n",
    "        zplanes = z+czshifts[j,i] \n",
    "        if zplanes < img.shape[0]:\n",
    "            img_corr.append(img[zplanes,:,:,j])\n"
   ]
  },
  {
   "cell_type": "code",
   "execution_count": null,
   "metadata": {},
   "outputs": [],
   "source": [
    "img_corr = np.array(img_corr)\n",
    "print(img_corr.shape)"
   ]
  },
  {
   "cell_type": "code",
   "execution_count": null,
   "metadata": {},
   "outputs": [],
   "source": [
    "#####! Debug #####!"
   ]
  },
  {
   "cell_type": "code",
   "execution_count": 62,
   "metadata": {},
   "outputs": [],
   "source": [
    "imsave('Corrected_img.tif',img_corr)"
   ]
  },
  {
   "cell_type": "code",
   "execution_count": 58,
   "metadata": {},
   "outputs": [],
   "source": [
    "v = napari.view_image(img_corr)"
   ]
  },
  {
   "cell_type": "code",
   "execution_count": 59,
   "metadata": {},
   "outputs": [],
   "source": [
    "img2 = []\n",
    "for i in range(img.shape[0]):\n",
    "    for j in range(img.shape[3]):\n",
    "        img2.append(img[i,:,:,j])"
   ]
  },
  {
   "cell_type": "code",
   "execution_count": 60,
   "metadata": {},
   "outputs": [],
   "source": [
    "img2 = np.array(img2)\n",
    "img2 = ndi.median_filter(img2,3)"
   ]
  },
  {
   "cell_type": "code",
   "execution_count": 61,
   "metadata": {},
   "outputs": [],
   "source": [
    "n = napari.view_image(img2)"
   ]
  },
  {
   "cell_type": "code",
   "execution_count": null,
   "metadata": {},
   "outputs": [],
   "source": []
  }
 ],
 "metadata": {
  "interpreter": {
   "hash": "11f80a4952c7f773e489c5b9e77a57b3b40a9c246ee80fd1712f52f749aeaa07"
  },
  "kernelspec": {
   "display_name": "Python 3.9 (tensorflow)",
   "language": "python",
   "name": "tensorflow"
  },
  "language_info": {
   "codemirror_mode": {
    "name": "ipython",
    "version": 3
   },
   "file_extension": ".py",
   "mimetype": "text/x-python",
   "name": "python",
   "nbconvert_exporter": "python",
   "pygments_lexer": "ipython3",
   "version": "3.9.12"
  },
  "orig_nbformat": 4
 },
 "nbformat": 4,
 "nbformat_minor": 2
}
